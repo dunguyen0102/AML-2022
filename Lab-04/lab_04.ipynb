{
  "nbformat": 4,
  "nbformat_minor": 0,
  "metadata": {
    "kernelspec": {
      "name": "python3",
      "display_name": "Python 3"
    },
    "language_info": {
      "codemirror_mode": {
        "name": "ipython",
        "version": 3
      },
      "file_extension": ".py",
      "mimetype": "text/x-python",
      "name": "python",
      "nbconvert_exporter": "python",
      "pygments_lexer": "ipython3",
      "version": "3.7.2"
    },
    "colab": {
      "name": "lab_04",
      "provenance": [],
      "toc_visible": true
    },
    "accelerator": "GPU"
  },
  "cells": [
    {
      "cell_type": "code",
      "metadata": {
        "id": "DhJ--5jrtuTn"
      },
      "source": [
        "from __future__ import absolute_import, division, print_function, unicode_literals"
      ],
      "execution_count": null,
      "outputs": []
    },
    {
      "cell_type": "code",
      "metadata": {
        "id": "ZqNM5Vlht8nf"
      },
      "source": [
        "!pip uninstall tensorflow"
      ],
      "execution_count": null,
      "outputs": []
    },
    {
      "cell_type": "code",
      "metadata": {
        "id": "8SpjwiLYuXnT"
      },
      "source": [
        "!pip install tensorflow==2.0.0-beta1"
      ],
      "execution_count": null,
      "outputs": []
    },
    {
      "cell_type": "code",
      "metadata": {
        "id": "tNxt4DQsTODz",
        "outputId": "84052f35-43a5-4bc1-c246-8a715590c661",
        "colab": {
          "base_uri": "https://localhost:8080/",
          "height": 402
        }
      },
      "source": [
        "import pandas as pd\n",
        "import numpy as np\n",
        "import nltk\n",
        "\n",
        "df = pd.read_csv(\"https://raw.githubusercontent.com/huynhthanh98/AML/main/lab-04/spam_detection.csv\")\n",
        "df"
      ],
      "execution_count": null,
      "outputs": [
        {
          "output_type": "execute_result",
          "data": {
            "text/html": [
              "<div>\n",
              "<style scoped>\n",
              "    .dataframe tbody tr th:only-of-type {\n",
              "        vertical-align: middle;\n",
              "    }\n",
              "\n",
              "    .dataframe tbody tr th {\n",
              "        vertical-align: top;\n",
              "    }\n",
              "\n",
              "    .dataframe thead th {\n",
              "        text-align: right;\n",
              "    }\n",
              "</style>\n",
              "<table border=\"1\" class=\"dataframe\">\n",
              "  <thead>\n",
              "    <tr style=\"text-align: right;\">\n",
              "      <th></th>\n",
              "      <th>Text</th>\n",
              "      <th>Label</th>\n",
              "      <th>y</th>\n",
              "    </tr>\n",
              "  </thead>\n",
              "  <tbody>\n",
              "    <tr>\n",
              "      <th>0</th>\n",
              "      <td>Go until jurong point, crazy.. Available only ...</td>\n",
              "      <td>ham</td>\n",
              "      <td>0</td>\n",
              "    </tr>\n",
              "    <tr>\n",
              "      <th>1</th>\n",
              "      <td>Ok lar... Joking wif u oni...</td>\n",
              "      <td>ham</td>\n",
              "      <td>0</td>\n",
              "    </tr>\n",
              "    <tr>\n",
              "      <th>2</th>\n",
              "      <td>Free entry in 2 a wkly comp to win FA Cup fina...</td>\n",
              "      <td>spam</td>\n",
              "      <td>1</td>\n",
              "    </tr>\n",
              "    <tr>\n",
              "      <th>3</th>\n",
              "      <td>U dun say so early hor... U c already then say...</td>\n",
              "      <td>ham</td>\n",
              "      <td>0</td>\n",
              "    </tr>\n",
              "    <tr>\n",
              "      <th>4</th>\n",
              "      <td>Nah I don't think he goes to usf, he lives aro...</td>\n",
              "      <td>ham</td>\n",
              "      <td>0</td>\n",
              "    </tr>\n",
              "    <tr>\n",
              "      <th>...</th>\n",
              "      <td>...</td>\n",
              "      <td>...</td>\n",
              "      <td>...</td>\n",
              "    </tr>\n",
              "    <tr>\n",
              "      <th>5569</th>\n",
              "      <td>This is the 2nd time we have tried 2 contact u...</td>\n",
              "      <td>spam</td>\n",
              "      <td>1</td>\n",
              "    </tr>\n",
              "    <tr>\n",
              "      <th>5570</th>\n",
              "      <td>Will Ã¼ b going to esplanade fr home?</td>\n",
              "      <td>ham</td>\n",
              "      <td>0</td>\n",
              "    </tr>\n",
              "    <tr>\n",
              "      <th>5571</th>\n",
              "      <td>Pity, * was in mood for that. So...any other s...</td>\n",
              "      <td>ham</td>\n",
              "      <td>0</td>\n",
              "    </tr>\n",
              "    <tr>\n",
              "      <th>5572</th>\n",
              "      <td>The guy did some bitching but I acted like i'd...</td>\n",
              "      <td>ham</td>\n",
              "      <td>0</td>\n",
              "    </tr>\n",
              "    <tr>\n",
              "      <th>5573</th>\n",
              "      <td>Rofl. Its true to its name</td>\n",
              "      <td>ham</td>\n",
              "      <td>0</td>\n",
              "    </tr>\n",
              "  </tbody>\n",
              "</table>\n",
              "<p>5574 rows × 3 columns</p>\n",
              "</div>"
            ],
            "text/plain": [
              "                                                   Text Label  y\n",
              "0     Go until jurong point, crazy.. Available only ...   ham  0\n",
              "1                         Ok lar... Joking wif u oni...   ham  0\n",
              "2     Free entry in 2 a wkly comp to win FA Cup fina...  spam  1\n",
              "3     U dun say so early hor... U c already then say...   ham  0\n",
              "4     Nah I don't think he goes to usf, he lives aro...   ham  0\n",
              "...                                                 ...   ... ..\n",
              "5569  This is the 2nd time we have tried 2 contact u...  spam  1\n",
              "5570              Will Ã¼ b going to esplanade fr home?   ham  0\n",
              "5571  Pity, * was in mood for that. So...any other s...   ham  0\n",
              "5572  The guy did some bitching but I acted like i'd...   ham  0\n",
              "5573                         Rofl. Its true to its name   ham  0\n",
              "\n",
              "[5574 rows x 3 columns]"
            ]
          },
          "metadata": {
            "tags": []
          },
          "execution_count": 45
        }
      ]
    },
    {
      "cell_type": "code",
      "metadata": {
        "id": "05ufiYEyTOD8",
        "outputId": "9c716d8f-8058-4bb8-d735-3a5739d2c819",
        "colab": {
          "base_uri": "https://localhost:8080/"
        }
      },
      "source": [
        "nltk.download('punkt')\n",
        "texts = df[\"Text\"].to_list()\n",
        "texts = [text.lower() for text in texts ]           # chuyển các đoạn text thành chữ thường (word embedding chỉ cho chữ thường)\n",
        "tokenized_texts = [nltk.tokenize.word_tokenize(text) for text in texts]    # tách câu thành một list các từ\n",
        "\n",
        "print(tokenized_texts[0])"
      ],
      "execution_count": null,
      "outputs": [
        {
          "output_type": "stream",
          "text": [
            "[nltk_data] Downloading package punkt to /root/nltk_data...\n",
            "[nltk_data]   Package punkt is already up-to-date!\n",
            "['go', 'until', 'jurong', 'point', ',', 'crazy..', 'available', 'only', 'in', 'bugis', 'n', 'great', 'world', 'la', 'e', 'buffet', '...', 'cine', 'there', 'got', 'amore', 'wat', '...']\n"
          ],
          "name": "stdout"
        }
      ]
    },
    {
      "cell_type": "code",
      "metadata": {
        "id": "Zxdndbsruel4",
        "outputId": "8d2b8582-70fe-48a0-ca0e-1b1f440b5e26",
        "colab": {
          "base_uri": "https://localhost:8080/"
        }
      },
      "source": [
        "!wget http://nlp.stanford.edu/data/glove.6B.zip\n"
      ],
      "execution_count": null,
      "outputs": [
        {
          "output_type": "stream",
          "text": [
            "--2020-11-08 21:19:59--  http://nlp.stanford.edu/data/glove.6B.zip\n",
            "Resolving nlp.stanford.edu (nlp.stanford.edu)... 171.64.67.140\n",
            "Connecting to nlp.stanford.edu (nlp.stanford.edu)|171.64.67.140|:80... connected.\n",
            "HTTP request sent, awaiting response... 302 Found\n",
            "Location: https://nlp.stanford.edu/data/glove.6B.zip [following]\n",
            "--2020-11-08 21:20:00--  https://nlp.stanford.edu/data/glove.6B.zip\n",
            "Connecting to nlp.stanford.edu (nlp.stanford.edu)|171.64.67.140|:443... connected.\n",
            "HTTP request sent, awaiting response... 301 Moved Permanently\n",
            "Location: http://downloads.cs.stanford.edu/nlp/data/glove.6B.zip [following]\n",
            "--2020-11-08 21:20:00--  http://downloads.cs.stanford.edu/nlp/data/glove.6B.zip\n",
            "Resolving downloads.cs.stanford.edu (downloads.cs.stanford.edu)... 171.64.64.22\n",
            "Connecting to downloads.cs.stanford.edu (downloads.cs.stanford.edu)|171.64.64.22|:80... connected.\n",
            "HTTP request sent, awaiting response... 200 OK\n",
            "Length: 862182613 (822M) [application/zip]\n",
            "Saving to: ‘glove.6B.zip’\n",
            "\n",
            "glove.6B.zip        100%[===================>] 822.24M  1.83MB/s    in 6m 29s  \n",
            "\n",
            "2020-11-08 21:26:29 (2.12 MB/s) - ‘glove.6B.zip’ saved [862182613/862182613]\n",
            "\n"
          ],
          "name": "stdout"
        }
      ]
    },
    {
      "cell_type": "code",
      "metadata": {
        "id": "Wa-aIBqVuvVj",
        "outputId": "38478f4d-2b99-4d7d-ee86-8af2c9481bbf",
        "colab": {
          "base_uri": "https://localhost:8080/"
        }
      },
      "source": [
        "! unzip glove.6B.zip"
      ],
      "execution_count": null,
      "outputs": [
        {
          "output_type": "stream",
          "text": [
            "Archive:  glove.6B.zip\n",
            "  inflating: glove.6B.50d.txt        \n",
            "  inflating: glove.6B.100d.txt       \n",
            "  inflating: glove.6B.200d.txt       \n",
            "  inflating: glove.6B.300d.txt       \n"
          ],
          "name": "stdout"
        }
      ]
    },
    {
      "cell_type": "code",
      "metadata": {
        "id": "eamFERdDTOEC"
      },
      "source": [
        "## không cần hiểu đống này lắm đâu\n",
        "import io\n",
        "import numpy as np\n",
        "def load_word_embeddings(fname):\n",
        "    fin = io.open(fname, 'r', encoding='utf-8', newline='\\n', errors='ignore')\n",
        "    vocab, matrix = [], []\n",
        "    i=0\n",
        "    for line in fin:\n",
        "        tokens = line.rstrip().split(' ')\n",
        "        vocab.append(tokens[0])\n",
        "        matrix.append(list(map(float, tokens[1:])))\n",
        "    return vocab, np.asarray(matrix)"
      ],
      "execution_count": null,
      "outputs": []
    },
    {
      "cell_type": "code",
      "metadata": {
        "id": "LFpgCiITTOEG"
      },
      "source": [
        "vocab, matrix = load_word_embeddings(\"glove.6B.100d.txt\")"
      ],
      "execution_count": null,
      "outputs": []
    },
    {
      "cell_type": "code",
      "metadata": {
        "id": "3ZMmUs77TOEN"
      },
      "source": [
        "## Gán các mã\n",
        "__PADDED_INDEX__ = 0    # mã dùng cho các vị trí chỉ có tính nối dài cho cùng kích thước\n",
        "__UNKNOWN_WORD__ = 1    # mã cho những từ không có trong embedding"
      ],
      "execution_count": null,
      "outputs": []
    },
    {
      "cell_type": "code",
      "metadata": {
        "id": "EpIOHPXVTOER"
      },
      "source": [
        "# Tạo một dictionary, có nhiệm vụ là một ánh xạ từ ảnh sang mã số, mã số được bắt đầu từ 2 vì số 0 và 1 được dành cho trường hợp đặc biệt\n",
        "word_to_index = {word: index+2 for index, word in enumerate(vocab)}\n"
      ],
      "execution_count": null,
      "outputs": []
    },
    {
      "cell_type": "code",
      "metadata": {
        "id": "S-5Da0MqTOEV",
        "outputId": "857e2098-f7e7-46f2-bbc1-5781900dd76d",
        "colab": {
          "base_uri": "https://localhost:8080/"
        }
      },
      "source": [
        "# Do do mã số được bắt đầu từ 2, nên cần thêm 2 vector vào đàu ma trận\n",
        "embedding_matrix = np.pad(matrix, [[2,0],[0,0]], mode='constant', constant_values =0.0)\n",
        "print(embedding_matrix)\n",
        "\n",
        "# Khi đó, __PADDED_INDEX__ dùng dòng đầu tiên của  embedding_matrix\n",
        "# __UNKNOWN_WORD__ dùng dòng thứ hai của embedding_matrix "
      ],
      "execution_count": null,
      "outputs": [
        {
          "output_type": "stream",
          "text": [
            "[[ 0.        0.        0.       ...  0.        0.        0.      ]\n",
            " [ 0.        0.        0.       ...  0.        0.        0.      ]\n",
            " [-0.038194 -0.24487   0.72812  ... -0.1459    0.8278    0.27062 ]\n",
            " ...\n",
            " [ 0.36088  -0.16919  -0.32704  ...  0.27139  -0.29188   0.16109 ]\n",
            " [-0.10461  -0.5047   -0.49331  ...  0.42527  -0.5125   -0.17054 ]\n",
            " [ 0.28365  -0.6263   -0.44351  ...  0.43678  -0.82607  -0.15701 ]]\n"
          ],
          "name": "stdout"
        }
      ]
    },
    {
      "cell_type": "code",
      "metadata": {
        "id": "qtfhG_fWTOEa"
      },
      "source": [
        "## Bây giờ ta sẽ chuyển data spam dection thành các mã số\n",
        "import tensorflow as tf\n",
        "\n",
        "X = []\n",
        "for text in tokenized_texts:\n",
        "    cur_text_indices = []\n",
        "    for word in text:\n",
        "        if word in word_to_index:\n",
        "            cur_text_indices.append(word_to_index[word])    ## map từ word sang index\n",
        "        else:\n",
        "            cur_text_indices.append(__UNKNOWN_WORD__)       ## gán unknown cho từ không có trong bộ glove\n",
        "    X.append(cur_text_indices)\n",
        "\n",
        "## pad data cho có cùng chiều dài\n",
        "X = tf.keras.preprocessing.sequence.pad_sequences(sequences=X,       # sequences: list các câu có độ dài không bằng nhau\n",
        "                                                  padding='post')    # vị trí pad là 'pre' (trước) hoặc 'post' (sau)\n",
        "\n",
        "y = df['y'].values   ## Label của bài toán, 0 là không phải spam, 1 là spam"
      ],
      "execution_count": null,
      "outputs": []
    },
    {
      "cell_type": "code",
      "metadata": {
        "id": "uMcpmdJBTOEe"
      },
      "source": [
        "## Chia data\n",
        "from sklearn.model_selection import train_test_split\n",
        "X_train, X_valid, y_train, y_valid = train_test_split(X, y, test_size= 0.2, random_state =0)"
      ],
      "execution_count": null,
      "outputs": []
    },
    {
      "cell_type": "markdown",
      "metadata": {
        "id": "mEliDcAPw5cs"
      },
      "source": [
        "#Mô hình"
      ]
    },
    {
      "cell_type": "code",
      "metadata": {
        "id": "pLgUeSE-w4_i",
        "outputId": "652f673c-e0a9-465d-87b2-e44597a0e8ec",
        "colab": {
          "base_uri": "https://localhost:8080/"
        }
      },
      "source": [
        "from tensorflow.keras.layers import Input, Embedding, LSTM, Bidirectional, Dense\n",
        "from tensorflow.keras.models import Model\n",
        "\n",
        "inputs = Input(shape=(None,))                   ## None biểu thị kích thước không xác định của câu\n",
        "\n",
        "embed = Embedding(input_dim=embedding_matrix.shape[0],   ## Khai báo kích thước của vocab\n",
        "                 output_dim=embedding_matrix.shape[1],   ## Khai báo kích thước của embedding\n",
        "                  embeddings_initializer = tf.keras.initializers.Constant(value=embedding_matrix),  ## Khởi tạo cho embedding bằng ma trận có sẵn\n",
        "                  trainable=False,                       ## Không cần thiết train embedding\n",
        "                 mask_zero=True)(inputs)                 ## zero_mask: những vị trí có giá trị 0 không được tính toán, vì đó là giá trị thêm vào cho đủ độ dài mà thôi\n",
        "                                                         ##  (__PADDED_INDEX__ gán bằng 0)\n",
        "\n",
        "lstm = LSTM(units=100,                          ## units: kích thước của hidden_state trong LSTM\n",
        "            return_sequences=False)(embed)      ## return_sequences: LSTM trả về toàn bộ  hay là trả về hidden_state cuối cùng\n",
        "\n",
        "dense = Dense(units=2, activation='softmax')(lstm)\n",
        "model = Model(inputs=inputs,\n",
        "              outputs=dense)\n",
        "\n",
        "model.compile(optimizer='adam',\n",
        "             loss='sparse_categorical_crossentropy',\n",
        "             metrics=['accuracy'])\n",
        "model.summary()"
      ],
      "execution_count": null,
      "outputs": [
        {
          "output_type": "stream",
          "text": [
            "Model: \"functional_3\"\n",
            "_________________________________________________________________\n",
            "Layer (type)                 Output Shape              Param #   \n",
            "=================================================================\n",
            "input_2 (InputLayer)         [(None, None)]            0         \n",
            "_________________________________________________________________\n",
            "embedding_1 (Embedding)      (None, None, 100)         40000200  \n",
            "_________________________________________________________________\n",
            "lstm_1 (LSTM)                (None, 100)               80400     \n",
            "_________________________________________________________________\n",
            "dense_1 (Dense)              (None, 2)                 202       \n",
            "=================================================================\n",
            "Total params: 40,080,802\n",
            "Trainable params: 80,602\n",
            "Non-trainable params: 40,000,200\n",
            "_________________________________________________________________\n"
          ],
          "name": "stdout"
        }
      ]
    },
    {
      "cell_type": "code",
      "metadata": {
        "id": "hXsAo4Y_w_TN",
        "outputId": "9a8b1873-2fc5-46fc-b1e0-a7e65a2cf1db",
        "colab": {
          "base_uri": "https://localhost:8080/"
        }
      },
      "source": [
        "mc = tf.keras.callbacks.ModelCheckpoint(filepath=\"lstm_spam.h5\", \n",
        "                                     monitor='val_loss',\n",
        "                                     mode='min', \n",
        "                                     verbose=0, \n",
        "                                     save_best_only=True)\n",
        "# Train\n",
        "model.fit(X_train, y_train, \n",
        "          validation_data=(X_valid, y_valid),\n",
        "         epochs=10,\n",
        "         callbacks=[mc])\n",
        "\n",
        "model.load_weights(\"lstm_spam.h5\")\n",
        "_, val_acc = model.evaluate(X_valid, y_valid)\n",
        "print(\"Accuracy on valid: \", val_acc)"
      ],
      "execution_count": null,
      "outputs": [
        {
          "output_type": "stream",
          "text": [
            "Epoch 1/10\n",
            "140/140 [==============================] - 2s 17ms/step - loss: 0.1596 - accuracy: 0.9377 - val_loss: 0.0998 - val_accuracy: 0.9650\n",
            "Epoch 2/10\n",
            "140/140 [==============================] - 1s 9ms/step - loss: 0.0887 - accuracy: 0.9724 - val_loss: 0.0774 - val_accuracy: 0.9749\n",
            "Epoch 3/10\n",
            "140/140 [==============================] - 1s 10ms/step - loss: 0.0601 - accuracy: 0.9821 - val_loss: 0.0681 - val_accuracy: 0.9776\n",
            "Epoch 4/10\n",
            "140/140 [==============================] - 2s 11ms/step - loss: 0.0474 - accuracy: 0.9861 - val_loss: 0.0693 - val_accuracy: 0.9776\n",
            "Epoch 5/10\n",
            "140/140 [==============================] - 1s 10ms/step - loss: 0.0416 - accuracy: 0.9883 - val_loss: 0.0584 - val_accuracy: 0.9812\n",
            "Epoch 6/10\n",
            "140/140 [==============================] - 2s 11ms/step - loss: 0.0388 - accuracy: 0.9890 - val_loss: 0.0696 - val_accuracy: 0.9758\n",
            "Epoch 7/10\n",
            "140/140 [==============================] - 26s 187ms/step - loss: 0.0275 - accuracy: 0.9924 - val_loss: 0.0554 - val_accuracy: 0.9830\n",
            "Epoch 8/10\n",
            "140/140 [==============================] - 1s 10ms/step - loss: 0.0290 - accuracy: 0.9908 - val_loss: 0.0641 - val_accuracy: 0.9821\n",
            "Epoch 9/10\n",
            "140/140 [==============================] - 1s 9ms/step - loss: 0.0258 - accuracy: 0.9910 - val_loss: 0.0708 - val_accuracy: 0.9731\n",
            "Epoch 10/10\n",
            "140/140 [==============================] - 25s 178ms/step - loss: 0.0188 - accuracy: 0.9955 - val_loss: 0.0477 - val_accuracy: 0.9874\n",
            "35/35 [==============================] - 0s 5ms/step - loss: 0.0477 - accuracy: 0.9874\n",
            "Accuracy on valid:  0.9874439239501953\n"
          ],
          "name": "stdout"
        }
      ]
    },
    {
      "cell_type": "markdown",
      "metadata": {
        "id": "AbeXf-8bw2No"
      },
      "source": [
        "#Bài tập"
      ]
    },
    {
      "cell_type": "markdown",
      "metadata": {
        "id": "XjdAFWRLx46W"
      },
      "source": [
        "Hãy train lại model sao cho embedding layer có tính learnable Kèm theo đó là dùng bộ glove 6B 300d\n",
        "\n",
        "Hãy viết một hàm\n",
        "\n",
        "def model_predict(text):\n",
        "\n",
        "  return True/False\n",
        "\n",
        "\n",
        "Tự điều chỉnh và train model (chỉnh lại train, valid, tiền xử lý, dùng word_embedding,... nếu muốn) rồi đoán xem các câu sau có phải spam không:\n",
        "\"wanna ask something? just send me a mess\"\n",
        "\n",
        "\"Urgent! You have won our competition's prize!! Please call us now.\"\n",
        "\n",
        "\"Call me to get a free holiday now\""
      ]
    },
    {
      "cell_type": "code",
      "metadata": {
        "id": "p2uWmN_p1gLw"
      },
      "source": [
        ""
      ],
      "execution_count": null,
      "outputs": []
    }
  ]
}
